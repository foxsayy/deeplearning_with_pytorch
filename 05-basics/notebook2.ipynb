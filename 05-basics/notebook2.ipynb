version https://git-lfs.github.com/spec/v1
oid sha256:6e0b0d776c6e917ce43bfb715efcc5f37bf47c6cd9ac8db64f29f0ff99c1bfe0
size 8000
