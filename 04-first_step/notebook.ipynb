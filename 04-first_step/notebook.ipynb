version https://git-lfs.github.com/spec/v1
oid sha256:3c9cee77c5fc82a17e7d8382958173ec1de26a9635e50023fed00a9eca37692a
size 4565
